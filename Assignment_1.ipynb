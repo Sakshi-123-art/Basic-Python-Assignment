{
  "nbformat": 4,
  "nbformat_minor": 0,
  "metadata": {
    "colab": {
      "provenance": []
    },
    "kernelspec": {
      "name": "python3",
      "display_name": "Python 3"
    },
    "language_info": {
      "name": "python"
    }
  },
  "cells": [
    {
      "cell_type": "markdown",
      "source": [
        "# ASSIGNMENT (***1***) SOLUTION"
      ],
      "metadata": {
        "id": "PT_pt4vrpng7"
      }
    },
    {
      "cell_type": "markdown",
      "source": [
        "# Q1. What is python and why is it popular ?\n",
        "  * PYTHON - Python is a programming language that is interpreted, object-oriented, and considered to be high-level.\n",
        "   \n",
        "  *  Python is one of the easiest yet most useful programming languages and is widely used in the software industry. People use Python for Competitive Programming, Web Development, and creating software. Due to its easiest syntax, it is recommended for beginners who are new to the software engineering field. Its demand is growing at a very rapid pace due to its vast use cases in Modern Technological fields like Data Science, Machine learning, and Automation Tasks. For many years now, it has been ranked among the top Programming languages.\n",
        "# Features of python\n",
        "Python has plenty of features that make it the most demanding and popular. Let’s read about a few of the best features that Python has:\n",
        "\n",
        " * Easy to read and understand\n",
        " *  Interpreted language\n",
        " * Object-oriented programming language\n",
        " * Free and open-source\n",
        " * Versatile and Extensible\n",
        " * Hundreds of libraries and frameworks\n",
        " * lexible, supports GUI\n",
        " * ynamically typed\n",
        " * Huge and active community\n",
        "\n",
        " # Uses and Applications\n",
        "\n",
        "  Python is widely used in various fields due to its versatility and extensive libraries\n",
        "\n",
        "### # Some common applications include:\n",
        "\n",
        "* Web Development: Python can be used to create web applications using frameworks like Django and Flask\n",
        "\n",
        "* Data Science: Python is popular in data science for building AI models, data analysis, and machine learning using libraries like TensorFlow, Keras, and scikit-learn\n",
        "\n",
        "* Automation: Python can automate tasks such as web scraping and data manipulation using libraries like BeautifulSoup and pandas\n",
        "\n",
        "* Game Development: Python can be used to develop 2D and 3D games using libraries like Pygame\n",
        "\n",
        "* CAD: Python can be used for computer-aided design (CAD) to create 2D and 3D models\n",
        "\n",
        "# Reason behind it's popularity\n",
        "* Easy to learn, read, and understand\n",
        "* Versatile and open-source\n",
        "* Improves productivity\n",
        "* Supports libraries\n",
        "* Huge library\n",
        "* Strong community\n",
        "* Interpreted language\n",
        "\n"
      ],
      "metadata": {
        "id": "YKEHwC2-quYw"
      }
    },
    {
      "cell_type": "markdown",
      "source": [],
      "metadata": {
        "id": "xLpKqifL7fFS"
      }
    },
    {
      "cell_type": "markdown",
      "source": [],
      "metadata": {
        "id": "HSUKM-tV72nY"
      }
    },
    {
      "cell_type": "markdown",
      "source": [
        "# Q 2. What is an interpreter in Python ?\n",
        "\n",
        "Ans-   Interpreter An interpreter in Python is a program that executes Python code directly, line by line, without requiring the code to be compiled into machine language first. This allows for rapid testing and debugging, making Python a highly flexible and user-friendly language.\n",
        "\n",
        "### Key Features of Python Interpreter:\n",
        "\n",
        "Interactive Mode: You can enter Python commands directly and see the results immediately, which is great for testing and learning.\n",
        "\n",
        "Script Mode: You can write Python code in a file and execute the entire script at once.\n",
        "\n",
        "Dynamic Typing: Python interpreter handles variable types dynamically, meaning you don't need to declare types explicitly.\n",
        "\n",
        "Error Handling: The interpreter provides detailed error messages, helping you quickly identify and fix issues in your code.\n",
        "Example Usage:\n",
        "\n",
        "### Benefits:\n",
        "\n",
        "Ease of Use: Beginners find it easy to start coding with Python due to its straightforward syntax and interactive nature\n",
        "\n",
        "Flexibility: You can quickly test snippets of code without the overhead of compilation.\n",
        "\n",
        "Portability: Python code can run on any platform with a compatible interpreter, making it highly portable."
      ],
      "metadata": {
        "id": "c1j-2kQ9BqRE"
      }
    },
    {
      "cell_type": "markdown",
      "source": [
        "# Q3. What are pre-defined keywords in Python\n",
        "## Keywords -\n",
        " * Keywords are predefined words that hold a special meainingand specific purpose.\n",
        "    \n",
        " * Python Keywords are some predefined and reserved words in Python that have special meanings. Keywords are used to define the syntax of the coding. The keyword cannot be used as an identifier, function, or variable name. All the keywords in Python are written in lowercase except True and False. There are 35 keywords in Python 3.11.\n",
        "\n",
        " * In Python, there are several predefined keywords that have special meanings and are reserved for specific purposes. These keywords cannot be used as identifiers (e.g., variable names, function names).\n",
        "Here is a list of Python keywords\n",
        "\n",
        "\n",
        "```\n",
        "False      await      else       import     pass\n",
        "None       break      except     in         raise\n",
        "True       class      finally    is         return\n",
        "and        continue   for        lambda     try\n",
        "as         def        from       nonlocal   while\n",
        "assert     del        global     not        with\n",
        "async      elif       if         or         yield\n",
        "\n",
        "```\n",
        "These keywords are fundamental to the syntax and structure of Python programming.\n",
        "\n",
        "### Rules for Keywords in Python\n",
        "\n",
        "* Python keywords cannot be used as identifiers.\n",
        "\n",
        "* All the keywords in Python should be in lowercase except True and False.\n",
        "\n"
      ],
      "metadata": {
        "id": "vn2MGNlVE9WP"
      }
    },
    {
      "cell_type": "markdown",
      "source": [
        "# Q4. Can keywords be used as variable names ?\n",
        "* Every language contains words and a set of rules that would make a     sentence  . Similarly, in Python programming language, there are a set of predefined words, called Keywords which along with Identifiers will form meaningful sentences when used together. Python keywords cannot be used as the names of variables, functions, and classes.\n",
        "\n",
        "\n",
        "\n",
        "*  in Python\n",
        "Python Keywords are some predefined and reserved words in Python that have special meanings. Keywords are used to define the syntax of the coding. The keyword cannot be used as an identifier, function, or variable name. All the keywords in Python are written in lowercase except True and False. There are 35 keywords in Python 3.11.\n",
        "\n",
        "* In Python, keywords are reserved words that have special meaning and cannot be used as variable names. These keywords are part of the syntax and structure of the language.\n",
        "### Here are a few examples of Python keywords:\n",
        "\n",
        "* False\n",
        "\n",
        "* True\n",
        "\n",
        "* None\n",
        "\n",
        "* and\n",
        "\n",
        "* or\n",
        "\n",
        "* if\n",
        "\n",
        "* else\n",
        "\n",
        "* while\n",
        "\n",
        "* for\n",
        "\n",
        "* def\n",
        "\n",
        "* class\n",
        "\n",
        "Attempting to use any of these keywords as variable names will result in a syntax error. For example:\n",
        "\n",
        "```\n",
        "if = 10         # This will raise a SyntaxError\n",
        "\n",
        "```\n",
        "To avoid such errors, always choose variable names that are not reserved keywords\n"
      ],
      "metadata": {
        "id": "_yZpfqs6G7sf"
      }
    },
    {
      "cell_type": "markdown",
      "source": [
        "# Q5. What is mutability in Python\n",
        "  In Python, objects can be classified as either mutable or immutable based on\n",
        "      whether their state can be modified after they are created.\n",
        "###   # Mutability  -\n",
        "   Mutability in python refers to the capability of an object to be changed or modified after its creation .\n",
        "\n",
        "   for eg - lists are mutable meaning you can change add or remove elements from them.\n",
        "   In contrast, strings are immutable which means their content can not be altered once created .\n",
        "   Understading mutability is crucial for writing efficient and bug free python code\n",
        "   \n",
        "\n",
        "```\n",
        "# Mutable Objects\n",
        "List_cont = [1, 2.3,2+3j,\"sakshi\",True,False]\n",
        "List_cont[0]= 100\n",
        "print (List_cont) # Output - [100,2.3,2+3j,\"sakshi\",True,False]\n",
        "```\n",
        "\n",
        "###   Mutable Objects -\n",
        "\n",
        "   Mutable objects are those whose state or value can be changed after they are created. Examples of mutable objects in Python include lists, dictionaries, and sets. These objects allow in-place modifications, meaning you can change their content without creating a new object.\n",
        "*\n",
        "\n",
        "```\n",
        "my_dict = {\"name\": \"Ram\", \"age\": 25}\n",
        "new_dict = my_dict\n",
        "new_dict[\"age\"] = 37\n",
        "print(my_dict)   \n",
        "print(new_dict)      # Output [\"name\":\"Ram\",\"age\": 37]\n",
        "                       # [\"name\":\"Ram\",\"age\": 37]\n",
        "\n",
        "```\n",
        "\n",
        " Here is an example of dictionary that are mutable i.e., we can make changes in the Dictionary."
      ],
      "metadata": {
        "id": "Qx1fuk6gDojC"
      }
    },
    {
      "cell_type": "markdown",
      "source": [
        "## Q6.Why are lists mutable, but tuples are immutable ?\n",
        "###  Lists (Mutable)\n",
        "\n",
        "* Definition: Lists are collections of items that can be changed after their creation.\n",
        "\n",
        "* Mutability: This means you can add, remove, or modify elements in a list.\n",
        "\n",
        "* Examples\n",
        "\n",
        "```\n",
        "# my_list = [1, 2, 3]\n",
        "my_list.append(4)  # Adds 4 to the end of the list\n",
        "my_list[1] = 5     # Changes the second element to 5\n",
        "print(my_list)     # Output: [1, 5, 3, 4]\n",
        "\n",
        "```\n",
        "\n",
        "\n",
        "\n",
        "```\n",
        "# List_cont[1,2,2.3,'sakshi',true]\n",
        "# List_cont[0] = 100 # change the first element to 100\n",
        "# print(List_cont)   # Output : [100,2,2.3,'Sakshi',true]\n",
        "```\n",
        "## Tuples (Immutable)\n",
        "### Definition:\n",
        " Tuples are collections of items that cannot be changed after their creation.\n",
        "\n",
        " Immutability: This means once a tuple is created, you cannot add, remove, or modify its elements.\n",
        "\n",
        "\n",
        "```\n",
        "# my_tuple = (1, 2, 3)\n",
        "# Attempting to modify the tuple will result in an error\n",
        "# my_tuple[1] = 5  # This will raise a TypeError\n",
        "print(my_tuple)   # Output: (1, 2, 3)\n",
        "\n",
        "```\n",
        "\n",
        "\n",
        "\n",
        "\n",
        "\n",
        "\n",
        "\n"
      ],
      "metadata": {
        "id": "JecQqk-AN7ca"
      }
    },
    {
      "cell_type": "markdown",
      "source": [
        "## Q7. What is the difference between “==” and “is” operators in Python?\n",
        " In Python, == and is operators are both used for comparison but they serve different purposes. The == operator checks for equality of values which means it evaluates whether the values of two objects are the same. On the other hand, is operator checks for identity, meaning it determines whether two variables point to the same object in memory.\n",
        "\n",
        "### == Operator\n",
        "To compare objects based on their values, Python’s equality operators (==) are employed. It calls the left object’s __eq__() class method which specifies the criteria for determining equality. However, these constraints are typically written so that the equality operator == returns True if two objects, have the same value and returns False if both have different value.\n",
        "\n",
        "\n",
        "```\n",
        "# x = [1, 2, 3]\n",
        "y = [1, 2, 3]\n",
        "z = x\n",
        "\n",
        "# Equality comparison (==)\n",
        "if x == y:\n",
        "    print(\"True\")\n",
        "else:\n",
        "    print(\"False\")\n",
        "\n",
        "```\n",
        "* Explanation:\n",
        " x == y checks if both lists have the same values. Since both lists contain [1, 2, 3], the output will be True.\n",
        "\n",
        " **'is' Operator**\n",
        "#\n",
        " Python identity operators (is, is not) are used to compare objects based on their identity. When the variables on either side of an operator point at the exact same object, the “is” operator’s evaluation is true. Otherwise, it would provide us with a false assessment.\n",
        "\n",
        "  Example of == operator and ‘is’ Operator :\n",
        "\n",
        "\n",
        "```\n",
        "# x = [1, 2, 3]\n",
        "y = [1, 2, 3]\n",
        "z = x\n",
        "\n",
        "\n",
        "# Case 1: Identity comparison (is)\n",
        "if x is y:\n",
        "    print(\"True\")\n",
        "else:\n",
        "    print(\"False\")  # Output is False\n",
        "\n",
        "# Case 2: Comparing references (is)\n",
        "if x is z:\n",
        "    print(\"True\")\n",
        "else:\n",
        "    print(\"False\") # Output is True\n",
        "\n",
        "```\n",
        "* Explanation:\n",
        "\n",
        "Case 1: x is y checks if x and y refer to the same object in memory. Since x and y are two separate list objects, the output will be False.\n",
        "\n",
        "Case 2: x is z checks if x and z refer to the same object. Since z is assigned to x, they are the same object, and the output will be True.\n",
        "\n",
        "\n",
        "\n"
      ],
      "metadata": {
        "id": "Nq4MJDYzU8Pt"
      }
    },
    {
      "cell_type": "markdown",
      "source": [
        "## Q8.  What are logical operators in Python\n",
        "  - Python logical operators are used to combine conditional statements, allowing you to perform operations based on multiple conditions. These Python operators, alongside arithmetic operators, are special symbols used to carry out computations on values and variables.\n",
        "\n",
        "  * Logical operators in Python are used to perform logical operations on values and variables. Here are the three main logical operators:\n",
        "\n",
        "1. and: Returns True if both statements are true.  \n",
        "\n",
        "2. or: Returns True if one of the statements is true.\n",
        "\n",
        "3. not: Reverses the result, returns False if the result is true.\n",
        "\n",
        "#and Operator\n",
        "\n",
        "```\n",
        "a = True\n",
        "b = False\n",
        "result = a and b     # result is False because both conditions are not true\n",
        "```\n",
        "# or Operator\n",
        "\n",
        "\n",
        "```\n",
        "a = True\n",
        "b = False\n",
        "result = a or b     # result is True because at least one condition is true\n",
        "```\n",
        "##  not Operator\n",
        "\n",
        "\n",
        "```\n",
        " a = True\n",
        "result = not a  # result is False because not operator reverses the boolean value\n",
        "\n",
        "```\n",
        "\n",
        "\n",
        "\n",
        "\n",
        "\n",
        "\n"
      ],
      "metadata": {
        "id": "qAQEgzJM74jE"
      }
    },
    {
      "cell_type": "markdown",
      "source": [
        "## Q9.  What is type casting in Python\n",
        "### Typecasting -\n",
        "  The process of changing the datatype of a value/object .\n",
        "  Type casting in Python refers to the process of converting a variable from one data type to another. This can be useful when you need to perform operations that require a specific data type.\n",
        "\n",
        "  ### There can be two types of Type Casting in Python:\n",
        "\n",
        "* Python Implicit Type Conversion\n",
        "\n",
        "* Python Explicit Type Conversion\n",
        "\n",
        "###  Python Implicit Type Conversion -\n",
        "\n",
        "   Implicit type conversion, also known as type coercion, is a process where Python automatically converts one data type to another without explicit instructions from the programmer. This usually happens in operations involving mixed data types, where Python ensures that the operation can be performed by converting the operands to a common type.\n",
        "\n",
        "###  Python Explicit Type Conversion -\n",
        "\n",
        "   Python explicit type conversion, also known as type casting, is the process of converting one data type to another using predefined functions. This is done intentionally by the programmer to ensure that the data is in the desired format for a specific operation\n",
        "* Python provides several built-in functions for type casting:\n",
        "\n",
        "\n",
        "1.integer - converts a value into an integer\n",
        "\n",
        "\n",
        "```\n",
        "a = \"25\"\n",
        "int(a)     # it will convert str to int 25\n",
        "b = int(a)\n",
        "type(b)    # output will show int\n",
        "```\n",
        "2.float(): Converts a value to a floating-point number.\n",
        "\n",
        "\n",
        "```\n",
        "a = 23\n",
        "float(a)      # it will convert int into float value 2.3\n",
        "type(float(a)) # output will show float\n",
        "```\n",
        "3.string - converts a value into string value\n",
        "\n",
        "\n",
        "```\n",
        "b = 55\n",
        "str(b)      # it will convert int into str \"55\"\n",
        "b           # Output : \"55\"\n",
        "\n",
        "```\n",
        "4.list(): Converts a value to a list\n",
        "\n",
        "\n",
        "```\n",
        "tuple_val = (1, 2, 3)\n",
        "list_val = list(tuple_val)\n",
        "print(list_val)                # Output: [1, 2, 3]\n",
        "\n",
        "```\n",
        "5.tuple(): Converts a value to a tuple\n",
        "   \n",
        "\n",
        "```\n",
        "list_val = [1, 2, 3]\n",
        "tuple_val = tuple(list_val)\n",
        "print(tuple_val)              # Output: (1, 2, 3)\n",
        "\n",
        "```\n",
        "6. bool(): Converts a value to a boolean\n",
        "\n",
        "\n",
        "```\n",
        "num_int = 0\n",
        "bool_val = bool(num_int)\n",
        "print(bool_val)  # Output: False\n",
        "\n",
        "```\n",
        "\n",
        "\n",
        "\n",
        "\n",
        "\n",
        "\n",
        "\n",
        "\n"
      ],
      "metadata": {
        "id": "hkhcCmuqSmUF"
      }
    },
    {
      "cell_type": "markdown",
      "source": [
        "## Q10.What is the difference between implicit and explicit type casting\n",
        " In Python, type conversion is the process of converting data from one type to another. This can be done either implicitly or explicitly.\n",
        "\n",
        "* Implicit Type Conversion\n",
        "\n",
        "  Implicit type conversion, also known as coercion, occurs automatically when Python converts one data type to another without any explicit instruction from the programmer. This typically happens during operations involving mixed data types where promoting one data type to another prevents loss of data.\n",
        "\n",
        "  Example of Implicit Type Conversion\n",
        "\n",
        "\n",
        "```\n",
        "# Python program to demonstrate implicit type casting\n",
        "a = 7\n",
        "print(type(a)) # Output: <class 'int'>\n",
        "\n",
        "b = 3.0\n",
        "print(type(b)) # Output: <class 'float'>\n",
        "\n",
        "c = a + b\n",
        "print(c) # Output: 10.0\n",
        "print(type(c)) # Output: <class 'float'>\n",
        "\n",
        "d = a * b\n",
        "print(d) # Output: 21.0\n",
        "print(type(d)) # Output: <class 'float'>\n",
        "```\n",
        "n the above example, Python automatically converts the integer a to a float when performing arithmetic operations with the float b.\n",
        "\n",
        "* Explicit Type Conversion\n",
        "\n",
        "  Explicit type conversion, also known as type casting, requires the programmer to manually convert a value from one data type to another using predefined functions like int(), float(), str(), etc. This gives the programmer more control over the conversion process.\n",
        "\n",
        "\n",
        "```\n",
        "# Python program to demonstrate explicit type casting\n",
        "a = 5.9\n",
        "n = int(a)\n",
        "print(n) # Output: 5\n",
        "print(type(n)) # Output: <class 'int'>\n",
        "\n",
        "b = \"123\"\n",
        "m = int(b)\n",
        "print(m) # Output: 123\n",
        "print(type(m)) # Output: <class 'int'>\n",
        "```\n",
        "n the above example, the float a is explicitly converted to an integer using the int() function, and the string b is explicitly converted to an integer using the same .\n",
        "\n",
        "\n",
        "\n",
        "\n"
      ],
      "metadata": {
        "id": "YVxHXcZpb_XK"
      }
    },
    {
      "cell_type": "markdown",
      "source": [
        "## Q11. What is the purpose of conditional statements in Python\n",
        "\n",
        " Conditional statements in Python are essential for controlling the flow of a program based on certain conditions. They allow you to execute specific blocks of code only when certain conditions are met, making your programs more dynamic and responsive. Here are the key purposes of conditional statements:\n",
        "\n",
        "* Decision Making: Conditional statements help in making decisions within a program. For example, you can use if, elif, and else statements to execute different code blocks based on different conditions.\n",
        "\n",
        "* Flow Control: They control the flow of execution, ensuring that certain parts of the code are run only when specific conditions are true. This helps in avoiding unnecessary computations and optimizing performance.\n",
        "\n",
        "* Error Handling: Conditional statements can be used to handle errors and exceptions gracefully. By checking conditions before executing code, you can prevent runtime errors and provide meaningful error messages.\n",
        "\n",
        "* User Input Validation: They are useful for validating user inputs. You can check if the input meets certain criteria before processing it further, ensuring that your program behaves correctly.\n",
        "\n",
        "Here's a simple example to illustrate the use of conditional statements in Python\n",
        "\n",
        "\n",
        "```\n",
        "age = 18\n",
        "if age >= 18:\n",
        "  print(\"you are eligible to vote.\")\n",
        "else:\n",
        "  print(\"you are not eligible to vote.\")\n",
        "```\n",
        "\n",
        "\n",
        "In this example, the program checks if the age is 18 or older. If the condition is true, it prints \"You are eligible to vote.\" Otherwise, it prints \"You are not eligible to vote.\"\n",
        "\n",
        "Conditional statements are a fundamental concept in programming, enabling you to create more complex and functional programs.\n",
        "\n"
      ],
      "metadata": {
        "id": "4OpWb1PcighV"
      }
    },
    {
      "cell_type": "markdown",
      "source": [
        "## Q12. How does the elif statement work ?\n",
        "  The elif statement in Python is used for conditional branching, allowing you to check multiple conditions sequentially. It stands for \"else if\" and is used after an if statement and before an else statement. Here's a breakdown of how it works:\n",
        "### # Basic Structure\n",
        "\n",
        "\n",
        "```\n",
        "if condition1:\n",
        "    # Code to execute if condition1 is True\n",
        "elif condition2:\n",
        "    # Code to execute if condition2 is True\n",
        "elif condition3:\n",
        "    # Code to execute if condition3 is True\n",
        "else:\n",
        "    # Code to execute if none of the above conditions are True\n",
        "\n",
        "```\n",
        "Example\n",
        "Let's look at a practical example to understand it better\n",
        "\n",
        "\n",
        "```\n",
        "temperature = 25\n",
        "\n",
        "if temperature > 30:\n",
        "    print(\"It's a hot day!\")\n",
        "elif temperature > 20:\n",
        "    print(\"It's a warm day!\")\n",
        "elif temperature > 10:\n",
        "    print(\"It's a cool day!\")\n",
        "else:\n",
        "    print(\"It's a cold day!\")\n",
        "\n",
        "```\n",
        "\n",
        "# Explanation\n",
        "\n",
        "* First Condition (if): Checks if temperature is greater than 30. If True, it prints \"It's a hot day!\" and skips the rest of the conditions.\n",
        "\n",
        "* Second Condition (elif): If the first condition is False, it checks if temperature is greater than 20. If True, it prints \"It's a warm day!\" and skips the remaining conditions.\n",
        "\n",
        "* Third Condition (elif): If the second condition is also False, it checks if temperature is greater than 10. If True, it prints \"It's a cool day!\".\n",
        "\n",
        "* Final Condition (else): If none of the above conditions are True, it prints \"It's a cold day!\".\n",
        "\n",
        "Key Points\n",
        "\n",
        "* Sequential Checking: Conditions are checked in order. Once a condition is met, the corresponding block of code is executed, and the rest are skipped.\n",
        "\n",
        "* Flexibility: You can have multiple elif statements to handle various scenarios.\n",
        "\n",
        "* Default Case: The else statement acts as a catch-all for any conditions not met by the if or elif statements.\n",
        "\n",
        "\n",
        "\n",
        "\n"
      ],
      "metadata": {
        "id": "bjER3IVdsamN"
      }
    },
    {
      "cell_type": "markdown",
      "source": [],
      "metadata": {
        "id": "yL3U2hngsajI"
      }
    },
    {
      "cell_type": "markdown",
      "source": [
        "### Q13. What is the difference between for and while loops\n",
        "\n",
        "Difference between for loop and while loop in Python\n",
        "Now, we will compare both loops in Python to understand where to use ‘for loop’ and where to use ‘while loop’.\n",
        "\n",
        "For loop\n",
        "\n",
        "While loop\n",
        "\n",
        "* For loop is used to iterate over a sequence of items.\n",
        "\n",
        "* While loop is used to repeatedly execute a block of statements while a condition is true.\n",
        "\n",
        "* For loops are designed for iterating over a sequence of items. Eg. list, tuple, etc.\n",
        "\n",
        "* While loop is used when the number of iterations is not known in advance or when we want to repeat a block of code until a certain condition is met.\n",
        "\n",
        "* For loop require a sequence to iterate over.\n",
        "\n",
        "* While the loop requires an initial condition that is tested at the beginning of the loop.\n",
        "\n",
        "* For loop is typically used for iterating over a fixed sequence of items\n",
        "\n",
        "* While loop is used for more complex control flow situations.\n",
        "\n",
        "* or loop is more efficient than a while loop when iterating over sequences, since the number of iterations is predetermined and the loop can be optimized accordingly.\n",
        "\n",
        "* While a loop may be more efficient in certain situations where the condition being tested can be evaluated quickly.\n",
        "\n",
        "\n",
        "\n",
        "---\n",
        "\n",
        "\n",
        "\n",
        "---\n",
        "\n"
      ],
      "metadata": {
        "id": "_JR6H7tzwX7A"
      }
    },
    {
      "cell_type": "markdown",
      "source": [
        "### Q14. Describe a scenario where a while loop is more suitable than a for loop.\n",
        "Let's imagine we're developing a simple game where the player needs to guess a randomly generated number between 1 and 100. The game continues until the player guesses the correct number. In this scenario, a while loop is more suitable than a for loop because the number of iterations is not predetermined; it depends on when the player guesses the correct number.\n",
        "\n",
        "Here's a brief example:\n",
        "\n",
        "\n",
        "```\n",
        "import random\n",
        "\n",
        "# Generate a random number between 1 and 100\n",
        "target_number = random.randint(1, 100)\n",
        "guess = None\n",
        "\n",
        "print(\"Welcome to the number guessing game!\")\n",
        "print(\"Guess a number between 1 and 100.\")\n",
        "\n",
        "# Continue looping until the player guesses the correct number\n",
        "while guess != target_number:\n",
        "    guess = int(input(\"Enter your guess: \"))\n",
        "    \n",
        "    if guess < target_number:\n",
        "        print(\"Too low! Try again.\")\n",
        "    elif guess > target_number:\n",
        "        print(\"Too high! Try again.\")\n",
        "    else:\n",
        "        print(\"Congratulations! You guessed the correct number.\")\n",
        "\n",
        "print(\"Thanks for playing!\")\n",
        "\n",
        "```\n",
        "### Why while loop is more suitable:\n",
        "\n",
        "Indeterminate Iterations: The loop continues until a specific condition is met (the correct guess), which is not known beforehand.\n",
        "\n",
        "* Flexibility: The while loop allows for dynamic checking of conditions after each iteration, making it ideal for scenarios where the number of iterations can vary.\n",
        "\n",
        "* In contrast, a for loop is typically used when the number of iterations is known or can be determined before the loop starts, such as iterating over a range of numbers or elements in a list.\n"
      ],
      "metadata": {
        "id": "e70XULalxpv3"
      }
    },
    {
      "cell_type": "markdown",
      "source": [
        "# **                       <<<     PYTHON PRACTICAL QUESTIONS **"
      ],
      "metadata": {
        "id": "2oImpLEkIMwt"
      }
    },
    {
      "cell_type": "markdown",
      "source": [
        "### Q1. Write a Python program to print \"Hello, World!\"\n",
        "\n"
      ],
      "metadata": {
        "id": "k5FBX9n8I7VF"
      }
    },
    {
      "cell_type": "code",
      "source": [
        "print(\"Hello World!\")"
      ],
      "metadata": {
        "colab": {
          "base_uri": "https://localhost:8080/"
        },
        "id": "BqDe-bbLJymi",
        "outputId": "f1ef52b6-1abc-4011-f14e-f34b56a44491"
      },
      "execution_count": 1,
      "outputs": [
        {
          "output_type": "stream",
          "name": "stdout",
          "text": [
            "Hello World!\n"
          ]
        }
      ]
    },
    {
      "cell_type": "markdown",
      "source": [
        "## Q2. Write a Python program that displays your name and age."
      ],
      "metadata": {
        "id": "HCMw1Cl9KJB0"
      }
    },
    {
      "cell_type": "code",
      "source": [
        "name = \" Sakshi \"\n",
        "age = \" 23 \"\n",
        "print(\"my name is\" + name +\"and my age is\" + age)"
      ],
      "metadata": {
        "colab": {
          "base_uri": "https://localhost:8080/"
        },
        "id": "QAWpQZ-xKhEP",
        "outputId": "bfed17a9-9c78-47a2-9aa2-fafc447be3b8"
      },
      "execution_count": 2,
      "outputs": [
        {
          "output_type": "stream",
          "name": "stdout",
          "text": [
            "my name is Sakshi and my age is 23 \n"
          ]
        }
      ]
    },
    {
      "cell_type": "markdown",
      "source": [
        "## Q3. Write code to print all the pre-defined keywords in Python using the keyword library ."
      ],
      "metadata": {
        "id": "ASlavSUDLQCV"
      }
    },
    {
      "cell_type": "code",
      "source": [
        "help(\"keywords\")"
      ],
      "metadata": {
        "colab": {
          "base_uri": "https://localhost:8080/"
        },
        "id": "kesu6e0bLgua",
        "outputId": "0ee96546-efb5-4df4-9133-5dc8c031f485"
      },
      "execution_count": 3,
      "outputs": [
        {
          "output_type": "stream",
          "name": "stdout",
          "text": [
            "\n",
            "Here is a list of the Python keywords.  Enter any keyword to get more help.\n",
            "\n",
            "False               class               from                or\n",
            "None                continue            global              pass\n",
            "True                def                 if                  raise\n",
            "and                 del                 import              return\n",
            "as                  elif                in                  try\n",
            "assert              else                is                  while\n",
            "async               except              lambda              with\n",
            "await               finally             nonlocal            yield\n",
            "break               for                 not                 \n",
            "\n"
          ]
        }
      ]
    },
    {
      "cell_type": "markdown",
      "source": [
        "## Q4.Write a program that checks if a given word is a Python keyword.\n"
      ],
      "metadata": {
        "id": "DX4LGnSjL11o"
      }
    },
    {
      "cell_type": "code",
      "source": [
        "# Here's a Python program that checks if a given word is a Python keyword:\n",
        "import keyword\n",
        "\n",
        "def is_keyword(word):\n",
        "    return keyword.iskeyword(word)\n",
        "\n",
        "# Example usage\n",
        "word = input(\"Enter a word to check if it's a Python keyword: \")\n",
        "if is_keyword(word):\n",
        "    print(f\"'{word}' is a Python keyword.\")\n",
        "else:\n",
        "    print(f\"'{word}' is not a Python keyword.\")\n",
        "#"
      ],
      "metadata": {
        "colab": {
          "base_uri": "https://localhost:8080/"
        },
        "id": "csMojqLyznvS",
        "outputId": "bb88120b-8ba2-4343-bcc2-d902c9f3217e"
      },
      "execution_count": 5,
      "outputs": [
        {
          "output_type": "stream",
          "name": "stdout",
          "text": [
            "Enter a word to check if it's a Python keyword: if\n",
            "'if' is a Python keyword.\n"
          ]
        }
      ]
    },
    {
      "cell_type": "markdown",
      "source": [
        "## Q5. Create a list and tuple in Python, and demonstrate how attempting to change an element works differently for each."
      ],
      "metadata": {
        "id": "OmlEbUMq0ssv"
      }
    },
    {
      "cell_type": "code",
      "source": [
        "# Creating a List and a Tuple\n",
        "# Creating a list\n",
        "my_list = [1, 2, 3, 4, 5]\n",
        "\n",
        "# Creating a tuple\n",
        "my_tuple = (1, 2, 3, 4, 5)\n",
        "\n",
        "# Modifying an Element in a List\n",
        "my_list[0]= 10\n",
        "print(\"Modified list:\", my_list)\n",
        "\n",
        "#Attempting to Modify an Element in a Tuple\n",
        "#Tuples in Python are immutable, meaning you cannot change their elements after creation. Attempting to do so will raise an error.\n",
        "try:\n",
        "   # Attempting to modify an element in tuple\n",
        "    my_tuple[0] = 10\n",
        "except TypeError as e:\n",
        "    print(\"Error:\", e)\n"
      ],
      "metadata": {
        "colab": {
          "base_uri": "https://localhost:8080/"
        },
        "id": "j19312st2Ln4",
        "outputId": "81885518-9662-4e0d-cc24-bb670446c1a5"
      },
      "execution_count": 6,
      "outputs": [
        {
          "output_type": "stream",
          "name": "stdout",
          "text": [
            "Modified list: [10, 2, 3, 4, 5]\n",
            "Error: 'tuple' object does not support item assignment\n"
          ]
        }
      ]
    },
    {
      "cell_type": "markdown",
      "source": [
        "## Q6.  Write a function to demonstrate the behavior of mutable and immutable arguments."
      ],
      "metadata": {
        "id": "fEhnkoky73Rc"
      }
    },
    {
      "cell_type": "code",
      "source": [
        "# a Python function that demonstrates the behavior of mutable and immutable arguments:\n",
        "def demonstrate_mutable_immutable():\n",
        "    # Immutable argument example\n",
        "    def modify_immutable(arg):\n",
        "        print(f\"Original immutable arg: {arg}\")\n",
        "        arg += 10\n",
        "        print(f\"Modified immutable arg inside function: {arg}\")\n",
        "\n",
        "    # Mutable argument example\n",
        "    def modify_mutable(arg):\n",
        "        print(f\"Original mutable arg: {arg}\")\n",
        "        arg.append(4)\n",
        "        print(f\"Modified mutable arg inside function: {arg}\")\n",
        "\n",
        "    # Immutable argument (integer)\n",
        "    immutable_arg = 5\n",
        "    print(f\"Immutable arg before function call: {immutable_arg}\")\n",
        "    modify_immutable(immutable_arg)\n",
        "    print(f\"Immutable arg after function call: {immutable_arg}\\n\")\n",
        "\n",
        "    # Mutable argument (list)\n",
        "    mutable_arg = [1, 2, 3]\n",
        "    print(f\"Mutable arg before function call: {mutable_arg}\")\n",
        "    modify_mutable(mutable_arg)\n",
        "    print(f\"Mutable arg after function call: {mutable_arg}\")\n",
        "\n",
        "# Call the function to see the behavior\n",
        "demonstrate_mutable_immutable()\n"
      ],
      "metadata": {
        "colab": {
          "base_uri": "https://localhost:8080/"
        },
        "id": "_HySdsk78IDZ",
        "outputId": "163bb193-e5e2-4c2f-fb28-22f8b2bfa50f"
      },
      "execution_count": null,
      "outputs": [
        {
          "output_type": "stream",
          "name": "stdout",
          "text": [
            "Immutable arg before function call: 5\n",
            "Original immutable arg: 5\n",
            "Modified immutable arg inside function: 15\n",
            "Immutable arg after function call: 5\n",
            "\n",
            "Mutable arg before function call: [1, 2, 3]\n",
            "Original mutable arg: [1, 2, 3]\n",
            "Modified mutable arg inside function: [1, 2, 3, 4]\n",
            "Mutable arg after function call: [1, 2, 3, 4]\n"
          ]
        }
      ]
    },
    {
      "cell_type": "markdown",
      "source": [
        "## Q7.Write a program that performs basic arithmetic operations on two user-input numbers.\n",
        "\n",
        "### a simple Python program that performs basic arithmetic operations (addition, subtraction, multiplication, and division) on two user-input numbers:"
      ],
      "metadata": {
        "id": "yK_Q_DzE-FQi"
      }
    },
    {
      "cell_type": "code",
      "source": [
        "# Function to perform basic arithmetic operations\n",
        "def arithmetic_operations(num1, num2):\n",
        "    addition = num1 + num2\n",
        "    subtraction = num1 - num2\n",
        "    multiplication = num1 * num2\n",
        "    division = num1 / num2 if num2 != 0 else \"undefined (division by zero)\"\n",
        "\n",
        "    return addition, subtraction, multiplication, division\n",
        "\n",
        "# Main program\n",
        "def main():\n",
        "    try:\n",
        "        # Taking user input\n",
        "        num1 = float(input(\"Enter the first number: \"))\n",
        "        num2 = float(input(\"Enter the second number: \"))\n",
        "\n",
        "        # Performing operations\n",
        "        add, sub, mul, div = arithmetic_operations(num1, num2)\n",
        "\n",
        "        # Displaying results\n",
        "        print(f\"Addition: {add}\")\n",
        "        print(f\"Subtraction: {sub}\")\n",
        "        print(f\"Multiplication: {mul}\")\n",
        "        print(f\"Division: {div}\")\n",
        "\n",
        "    except ValueError:\n",
        "        print(\"Invalid input! Please enter numeric values.\")\n",
        "\n",
        "if __name__ == \"__main__\":\n",
        "    main()\n"
      ],
      "metadata": {
        "colab": {
          "base_uri": "https://localhost:8080/"
        },
        "id": "yAAhiBZ5_qiB",
        "outputId": "3b1ad5b3-00d2-44a7-d86c-0af4c318a052"
      },
      "execution_count": 7,
      "outputs": [
        {
          "output_type": "stream",
          "name": "stdout",
          "text": [
            "Enter the first number: 2\n",
            "Enter the second number: 4\n",
            "Addition: 6.0\n",
            "Subtraction: -2.0\n",
            "Multiplication: 8.0\n",
            "Division: 0.5\n"
          ]
        }
      ]
    },
    {
      "cell_type": "markdown",
      "source": [
        "# Q8.Write a program to demonstrate the use of logical operators\n",
        "   Logical Operators -"
      ],
      "metadata": {
        "id": "lOp_RTGH_6k2"
      }
    },
    {
      "cell_type": "code",
      "source": [
        "# Demonstrating logical operators in Python\n",
        "\n",
        "# Define some variables\n",
        "a = True\n",
        "b = False\n",
        "\n",
        "# Using 'and' operator\n",
        "result_and = a and b\n",
        "print(f\"{a} and {b} = {result_and}\")\n",
        "\n",
        "# Using 'or' operator\n",
        "result_or = a or b\n",
        "print(f\"{a} or {b} = {result_or}\")\n",
        "\n",
        "# Using 'not' operator\n",
        "result_not_a = not a\n",
        "result_not_b = not b\n",
        "print(f\"not {a} = {result_not_a}\")\n",
        "print(f\"not {b} = {result_not_b}\")\n",
        "\n",
        "# Combining logical operators\n",
        "combined_result = (a and not b) or (not a and b)\n",
        "print(f\"({a} and not {b}) or (not {a} and {b}) = {combined_result}\")\n"
      ],
      "metadata": {
        "colab": {
          "base_uri": "https://localhost:8080/"
        },
        "id": "LUSHQYVXEwIP",
        "outputId": "ff8183b8-0b24-43b2-fb0b-b1e5230d78ec"
      },
      "execution_count": 8,
      "outputs": [
        {
          "output_type": "stream",
          "name": "stdout",
          "text": [
            "True and False = False\n",
            "True or False = True\n",
            "not True = False\n",
            "not False = True\n",
            "(True and not False) or (not True and False) = True\n"
          ]
        }
      ]
    },
    {
      "cell_type": "markdown",
      "source": [
        "## Q9.Write a Python program to convert user input from string to integer, float, and boolean types."
      ],
      "metadata": {
        "id": "p9BTlmlaHdPg"
      }
    },
    {
      "cell_type": "code",
      "source": [
        "# Python program to convert user input from string to integer,float,and boolian types\n",
        "def convert_input(user_input):\n",
        "    try:\n",
        "        int_value = int(user_input)\n",
        "    except ValueError:\n",
        "        int_value = None\n",
        "\n",
        "    try:\n",
        "        float_value = float(user_input)\n",
        "    except ValueError:\n",
        "        float_value = None\n",
        "\n",
        "    if user_input.lower() in ['true', 'false']:\n",
        "        bool_value = user_input.lower() == 'true'\n",
        "    else:\n",
        "        bool_value = None\n",
        "\n",
        "    return int_value, float_value, bool_value\n",
        "\n",
        "def main():\n",
        "    user_input = input(\"Enter a value: \")\n",
        "\n",
        "    int_value, float_value, bool_value = convert_input(user_input)\n",
        "\n",
        "    print(f\"Integer conversion: {int_value}\")\n",
        "    print(f\"Float conversion: {float_value}\")\n",
        "    print(f\"Boolean conversion: {bool_value}\")\n",
        "\n",
        "if __name__ == \"__main__\":\n",
        "    main()\n"
      ],
      "metadata": {
        "colab": {
          "base_uri": "https://localhost:8080/"
        },
        "id": "g_2nfcqUHxpn",
        "outputId": "320de8eb-0a1b-4fe2-ebbf-2a650cc39f1c"
      },
      "execution_count": null,
      "outputs": [
        {
          "output_type": "stream",
          "name": "stdout",
          "text": [
            "Enter a value: 22\n",
            "Integer conversion: 22\n",
            "Float conversion: 22.0\n",
            "Boolean conversion: None\n"
          ]
        }
      ]
    },
    {
      "cell_type": "markdown",
      "source": [
        "## Q10. Write code to demonstrate type casting with list elements."
      ],
      "metadata": {
        "id": "l7Yno-J9NziC"
      }
    },
    {
      "cell_type": "code",
      "source": [
        "# Original list with mixed types\n",
        "original_list = ['1', '2', '3', '4.5', '5.6', 'True', 'False']\n",
        "\n",
        "# Type casting elements to integers (where possible)\n",
        "int_list = [int(float(item)) if item.replace('.', '', 1).isdigit() else item for item in original_list]\n",
        "print(\"Integer List:\", int_list)\n",
        "\n",
        "# Type casting elements to floats (where possible)\n",
        "float_list = [float(item) if item.replace('.', '', 1).isdigit() else item for item in original_list]\n",
        "print(\"Float List:\", float_list)\n",
        "\n",
        "# Type casting elements to booleans (where possible)\n",
        "bool_list = [item.lower() == 'true' if item.lower() in ['true', 'false'] else item for item in original_list]\n",
        "print(\"Boolean List:\", bool_list)\n"
      ],
      "metadata": {
        "colab": {
          "base_uri": "https://localhost:8080/"
        },
        "id": "PbQWAEGIOPIO",
        "outputId": "1436869e-d54d-4ff6-e77f-efff69700bec"
      },
      "execution_count": 9,
      "outputs": [
        {
          "output_type": "stream",
          "name": "stdout",
          "text": [
            "Integer List: [1, 2, 3, 4, 5, 'True', 'False']\n",
            "Float List: [1.0, 2.0, 3.0, 4.5, 5.6, 'True', 'False']\n",
            "Boolean List: ['1', '2', '3', '4.5', '5.6', True, False]\n"
          ]
        }
      ]
    },
    {
      "cell_type": "markdown",
      "source": [
        "## Q11.. Write a program that checks if a number is positive, negative, or zero."
      ],
      "metadata": {
        "id": "nQVYhMgKOf-v"
      }
    },
    {
      "cell_type": "code",
      "source": [
        "# Function to check if a number is positive, negative, or zero\n",
        "def check_number(num):\n",
        "    if num > 0:\n",
        "        return \"The number is positive.\"\n",
        "    elif num < 0:\n",
        "        return \"The number is negative.\"\n",
        "    else:\n",
        "        return \"The number is zero.\"\n",
        "\n",
        "# Input from the user\n",
        "number = float(input(\"Enter a number: \"))\n",
        "\n",
        "# Check the number and print the result\n",
        "result = check_number(number)\n",
        "print(result)\n"
      ],
      "metadata": {
        "colab": {
          "base_uri": "https://localhost:8080/"
        },
        "id": "SoC_xkeMOtZe",
        "outputId": "c6b080c6-41f1-42b5-926f-9c624e654979"
      },
      "execution_count": null,
      "outputs": [
        {
          "output_type": "stream",
          "name": "stdout",
          "text": [
            "Enter a number: 2\n",
            "The number is positive.\n"
          ]
        }
      ]
    },
    {
      "cell_type": "markdown",
      "source": [
        "## Q12.Write a for loop to print numbers from 1 to 10."
      ],
      "metadata": {
        "id": "TQhLz0lsPIbk"
      }
    },
    {
      "cell_type": "code",
      "source": [
        "for i in range(1, 11):\n",
        "    print(i)\n",
        "\n"
      ],
      "metadata": {
        "colab": {
          "base_uri": "https://localhost:8080/"
        },
        "id": "y9lOZZaZP0rx",
        "outputId": "4df4bcf1-c89f-4d78-846f-43cf45389a9e"
      },
      "execution_count": null,
      "outputs": [
        {
          "output_type": "stream",
          "name": "stdout",
          "text": [
            "1\n",
            "2\n",
            "3\n",
            "4\n",
            "5\n",
            "6\n",
            "7\n",
            "8\n",
            "9\n",
            "10\n"
          ]
        }
      ]
    },
    {
      "cell_type": "markdown",
      "source": [],
      "metadata": {
        "id": "ypDKtjEVOrAd"
      }
    },
    {
      "cell_type": "markdown",
      "source": [
        "## Q13.  Write a Python program to find the sum of all even numbers between 1 and 50."
      ],
      "metadata": {
        "id": "ctGM0v6YP9OJ"
      }
    },
    {
      "cell_type": "code",
      "source": [
        "def sum_of_even_numbers(start, end):\n",
        "    total_sum = 0\n",
        "    for number in range(start, end + 1):\n",
        "        if number % 2 == 0:\n",
        "            total_sum += number\n",
        "    return total_sum\n",
        "\n",
        "# Define the range\n",
        "start = 1\n",
        "end = 50\n",
        "\n",
        "# Calculate the sum of even numbers\n",
        "sum_even = sum_of_even_numbers(start, end)\n",
        "\n",
        "# Print the result\n",
        "print(f\"The sum of all even numbers between {start} and {end} is: {sum_even}\")\n"
      ],
      "metadata": {
        "colab": {
          "base_uri": "https://localhost:8080/"
        },
        "id": "dnljIhOQQdyq",
        "outputId": "09082b76-c28a-4885-cb61-18f18f95d7a8"
      },
      "execution_count": null,
      "outputs": [
        {
          "output_type": "stream",
          "name": "stdout",
          "text": [
            "The sum of all even numbers between 1 and 50 is: 650\n"
          ]
        }
      ]
    },
    {
      "cell_type": "markdown",
      "source": [
        "## Q14. Write a program to reverse a string using a while loop"
      ],
      "metadata": {
        "id": "FEMoPm0nQhrc"
      }
    },
    {
      "cell_type": "code",
      "source": [
        "def reverse_string(input_string):\n",
        "    # Initialize an empty string to store the reversed string\n",
        "    reversed_string = \"\"\n",
        "\n",
        "    # Get the length of the input string\n",
        "    length = len(input_string)\n",
        "\n",
        "    # Initialize the index to the last character of the string\n",
        "    index = length - 1\n",
        "\n",
        "    # Use a while loop to iterate through the string in reverse order\n",
        "    while index >= 0:\n",
        "        # Append the current character to the reversed string\n",
        "        reversed_string += input_string[index]\n",
        "        # Decrement the index\n",
        "        index -= 1\n",
        "\n",
        "    return reversed_string\n",
        "\n",
        "# Example usage\n",
        "original_string = \"Hello, World!\"\n",
        "reversed_string = reverse_string(original_string)\n",
        "print(\"Original String:\", original_string)\n",
        "print(\"Reversed String:\", reversed_string)\n"
      ],
      "metadata": {
        "colab": {
          "base_uri": "https://localhost:8080/"
        },
        "id": "dYllU0ovQvYU",
        "outputId": "c9313ba6-f552-4704-f7a2-80f822b37e6d"
      },
      "execution_count": null,
      "outputs": [
        {
          "output_type": "stream",
          "name": "stdout",
          "text": [
            "Original String: Hello, World!\n",
            "Reversed String: !dlroW ,olleH\n"
          ]
        }
      ]
    },
    {
      "cell_type": "markdown",
      "source": [
        "## Q15. Write a Python program to calculate the factorial of a number provided by the user using a while loop."
      ],
      "metadata": {
        "id": "6NBptD_BROW0"
      }
    },
    {
      "cell_type": "code",
      "source": [
        "# Function to calculate factorial using a while loop\n",
        "def factorial(n):\n",
        "    result = 1\n",
        "    while n > 1:\n",
        "        result *= n\n",
        "        n -= 1\n",
        "    return result\n",
        "\n",
        "# Get user input\n",
        "number = int(input(\"Enter a number to calculate its factorial: \"))\n",
        "\n",
        "# Ensure the number is non-negative\n",
        "if number < 0:\n",
        "    print(\"Factorial is not defined for negative numbers.\")\n",
        "else:\n",
        "    # Calculate and print the factorial\n",
        "    print(f\"The factorial of {number} is {factorial(number)}.\")\n"
      ],
      "metadata": {
        "colab": {
          "base_uri": "https://localhost:8080/"
        },
        "id": "F3MJzM0RRiF2",
        "outputId": "929cdbba-86f3-4e93-ddaf-fd27fea7f0c0"
      },
      "execution_count": 10,
      "outputs": [
        {
          "output_type": "stream",
          "name": "stdout",
          "text": [
            "Enter a number to calculate its factorial: 4\n",
            "The factorial of 4 is 24.\n"
          ]
        }
      ]
    }
  ]
}